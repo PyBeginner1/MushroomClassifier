{
  "nbformat": 4,
  "nbformat_minor": 0,
  "metadata": {
    "colab": {
      "name": "MushroomClassification.ipynb",
      "provenance": [],
      "collapsed_sections": [],
      "authorship_tag": "ABX9TyOkeCkZq8YoHZWS9+ippmvX",
      "include_colab_link": true
    },
    "kernelspec": {
      "name": "python3",
      "display_name": "Python 3"
    },
    "language_info": {
      "name": "python"
    }
  },
  "cells": [
    {
      "cell_type": "markdown",
      "metadata": {
        "id": "view-in-github",
        "colab_type": "text"
      },
      "source": [
        "<a href=\"https://colab.research.google.com/github/PyBeginner1/MushroomClassifier/blob/main/MushroomClassification.ipynb\" target=\"_parent\"><img src=\"https://colab.research.google.com/assets/colab-badge.svg\" alt=\"Open In Colab\"/></a>"
      ]
    },
    {
      "cell_type": "code",
      "metadata": {
        "id": "KjQ_K8NSNDBV"
      },
      "source": [
        "import numpy as np\n",
        "import pandas as pd\n",
        "import matplotlib.pyplot as plt\n",
        "import seaborn as sns\n",
        "\n",
        "#text data\n",
        "from sklearn.preprocessing import LabelEncoder\n",
        "from sklearn.preprocessing import StandardScaler\n",
        "from sklearn.model_selection import train_test_split\n",
        "\n",
        "#models\n",
        "from sklearn.linear_model import LogisticRegression\n",
        "from sklearn.svm import SVC\n",
        "from sklearn.neural_network import MLPClassifier \n",
        "\n",
        "from sklearn.metrics import accuracy_score"
      ],
      "execution_count": 5,
      "outputs": []
    },
    {
      "cell_type": "code",
      "metadata": {
        "id": "DCFSM7_cNTla"
      },
      "source": [
        "shrooms = pd.read_csv('/content/mushrooms.csv')"
      ],
      "execution_count": 34,
      "outputs": []
    },
    {
      "cell_type": "code",
      "metadata": {
        "colab": {
          "base_uri": "https://localhost:8080/",
          "height": 266
        },
        "id": "KxWz1fV4NYCw",
        "outputId": "6e9fb180-0051-46e0-b70a-c9c567557520"
      },
      "source": [
        "shrooms.head()"
      ],
      "execution_count": 35,
      "outputs": [
        {
          "output_type": "execute_result",
          "data": {
            "text/html": [
              "<div>\n",
              "<style scoped>\n",
              "    .dataframe tbody tr th:only-of-type {\n",
              "        vertical-align: middle;\n",
              "    }\n",
              "\n",
              "    .dataframe tbody tr th {\n",
              "        vertical-align: top;\n",
              "    }\n",
              "\n",
              "    .dataframe thead th {\n",
              "        text-align: right;\n",
              "    }\n",
              "</style>\n",
              "<table border=\"1\" class=\"dataframe\">\n",
              "  <thead>\n",
              "    <tr style=\"text-align: right;\">\n",
              "      <th></th>\n",
              "      <th>class</th>\n",
              "      <th>cap-shape</th>\n",
              "      <th>cap-surface</th>\n",
              "      <th>cap-color</th>\n",
              "      <th>bruises</th>\n",
              "      <th>odor</th>\n",
              "      <th>gill-attachment</th>\n",
              "      <th>gill-spacing</th>\n",
              "      <th>gill-size</th>\n",
              "      <th>gill-color</th>\n",
              "      <th>stalk-shape</th>\n",
              "      <th>stalk-root</th>\n",
              "      <th>stalk-surface-above-ring</th>\n",
              "      <th>stalk-surface-below-ring</th>\n",
              "      <th>stalk-color-above-ring</th>\n",
              "      <th>stalk-color-below-ring</th>\n",
              "      <th>veil-type</th>\n",
              "      <th>veil-color</th>\n",
              "      <th>ring-number</th>\n",
              "      <th>ring-type</th>\n",
              "      <th>spore-print-color</th>\n",
              "      <th>population</th>\n",
              "      <th>habitat</th>\n",
              "    </tr>\n",
              "  </thead>\n",
              "  <tbody>\n",
              "    <tr>\n",
              "      <th>0</th>\n",
              "      <td>p</td>\n",
              "      <td>x</td>\n",
              "      <td>s</td>\n",
              "      <td>n</td>\n",
              "      <td>t</td>\n",
              "      <td>p</td>\n",
              "      <td>f</td>\n",
              "      <td>c</td>\n",
              "      <td>n</td>\n",
              "      <td>k</td>\n",
              "      <td>e</td>\n",
              "      <td>e</td>\n",
              "      <td>s</td>\n",
              "      <td>s</td>\n",
              "      <td>w</td>\n",
              "      <td>w</td>\n",
              "      <td>p</td>\n",
              "      <td>w</td>\n",
              "      <td>o</td>\n",
              "      <td>p</td>\n",
              "      <td>k</td>\n",
              "      <td>s</td>\n",
              "      <td>u</td>\n",
              "    </tr>\n",
              "    <tr>\n",
              "      <th>1</th>\n",
              "      <td>e</td>\n",
              "      <td>x</td>\n",
              "      <td>s</td>\n",
              "      <td>y</td>\n",
              "      <td>t</td>\n",
              "      <td>a</td>\n",
              "      <td>f</td>\n",
              "      <td>c</td>\n",
              "      <td>b</td>\n",
              "      <td>k</td>\n",
              "      <td>e</td>\n",
              "      <td>c</td>\n",
              "      <td>s</td>\n",
              "      <td>s</td>\n",
              "      <td>w</td>\n",
              "      <td>w</td>\n",
              "      <td>p</td>\n",
              "      <td>w</td>\n",
              "      <td>o</td>\n",
              "      <td>p</td>\n",
              "      <td>n</td>\n",
              "      <td>n</td>\n",
              "      <td>g</td>\n",
              "    </tr>\n",
              "    <tr>\n",
              "      <th>2</th>\n",
              "      <td>e</td>\n",
              "      <td>b</td>\n",
              "      <td>s</td>\n",
              "      <td>w</td>\n",
              "      <td>t</td>\n",
              "      <td>l</td>\n",
              "      <td>f</td>\n",
              "      <td>c</td>\n",
              "      <td>b</td>\n",
              "      <td>n</td>\n",
              "      <td>e</td>\n",
              "      <td>c</td>\n",
              "      <td>s</td>\n",
              "      <td>s</td>\n",
              "      <td>w</td>\n",
              "      <td>w</td>\n",
              "      <td>p</td>\n",
              "      <td>w</td>\n",
              "      <td>o</td>\n",
              "      <td>p</td>\n",
              "      <td>n</td>\n",
              "      <td>n</td>\n",
              "      <td>m</td>\n",
              "    </tr>\n",
              "    <tr>\n",
              "      <th>3</th>\n",
              "      <td>p</td>\n",
              "      <td>x</td>\n",
              "      <td>y</td>\n",
              "      <td>w</td>\n",
              "      <td>t</td>\n",
              "      <td>p</td>\n",
              "      <td>f</td>\n",
              "      <td>c</td>\n",
              "      <td>n</td>\n",
              "      <td>n</td>\n",
              "      <td>e</td>\n",
              "      <td>e</td>\n",
              "      <td>s</td>\n",
              "      <td>s</td>\n",
              "      <td>w</td>\n",
              "      <td>w</td>\n",
              "      <td>p</td>\n",
              "      <td>w</td>\n",
              "      <td>o</td>\n",
              "      <td>p</td>\n",
              "      <td>k</td>\n",
              "      <td>s</td>\n",
              "      <td>u</td>\n",
              "    </tr>\n",
              "    <tr>\n",
              "      <th>4</th>\n",
              "      <td>e</td>\n",
              "      <td>x</td>\n",
              "      <td>s</td>\n",
              "      <td>g</td>\n",
              "      <td>f</td>\n",
              "      <td>n</td>\n",
              "      <td>f</td>\n",
              "      <td>w</td>\n",
              "      <td>b</td>\n",
              "      <td>k</td>\n",
              "      <td>t</td>\n",
              "      <td>e</td>\n",
              "      <td>s</td>\n",
              "      <td>s</td>\n",
              "      <td>w</td>\n",
              "      <td>w</td>\n",
              "      <td>p</td>\n",
              "      <td>w</td>\n",
              "      <td>o</td>\n",
              "      <td>e</td>\n",
              "      <td>n</td>\n",
              "      <td>a</td>\n",
              "      <td>g</td>\n",
              "    </tr>\n",
              "  </tbody>\n",
              "</table>\n",
              "</div>"
            ],
            "text/plain": [
              "  class cap-shape cap-surface  ... spore-print-color population habitat\n",
              "0     p         x           s  ...                 k          s       u\n",
              "1     e         x           s  ...                 n          n       g\n",
              "2     e         b           s  ...                 n          n       m\n",
              "3     p         x           y  ...                 k          s       u\n",
              "4     e         x           s  ...                 n          a       g\n",
              "\n",
              "[5 rows x 23 columns]"
            ]
          },
          "metadata": {
            "tags": []
          },
          "execution_count": 35
        }
      ]
    },
    {
      "cell_type": "markdown",
      "metadata": {
        "id": "FI0HK_qKNccQ"
      },
      "source": [
        "In class column, \n",
        "\n",
        "P ---> Poisonous\n",
        "\n",
        "e ---> Edible"
      ]
    },
    {
      "cell_type": "code",
      "metadata": {
        "colab": {
          "base_uri": "https://localhost:8080/"
        },
        "id": "hfDLhu8SUoh_",
        "outputId": "35585859-9255-4e39-ee0d-58310ea894dc"
      },
      "source": [
        "shrooms.columns"
      ],
      "execution_count": 36,
      "outputs": [
        {
          "output_type": "execute_result",
          "data": {
            "text/plain": [
              "Index(['class', 'cap-shape', 'cap-surface', 'cap-color', 'bruises', 'odor',\n",
              "       'gill-attachment', 'gill-spacing', 'gill-size', 'gill-color',\n",
              "       'stalk-shape', 'stalk-root', 'stalk-surface-above-ring',\n",
              "       'stalk-surface-below-ring', 'stalk-color-above-ring',\n",
              "       'stalk-color-below-ring', 'veil-type', 'veil-color', 'ring-number',\n",
              "       'ring-type', 'spore-print-color', 'population', 'habitat'],\n",
              "      dtype='object')"
            ]
          },
          "metadata": {
            "tags": []
          },
          "execution_count": 36
        }
      ]
    },
    {
      "cell_type": "markdown",
      "metadata": {
        "id": "_vJmVqFmUkM3"
      },
      "source": [
        "Preprocessing"
      ]
    },
    {
      "cell_type": "code",
      "metadata": {
        "id": "rpiZxbp1NZSg"
      },
      "source": [
        "mappings = list()\n",
        "encoder = LabelEncoder()\n",
        "\n",
        "for column in shrooms.columns:\n",
        "  shrooms[column] = encoder.fit_transform(shrooms[column])\n",
        "  mappings_dict = {index : label for index, label in enumerate(encoder.classes_)}\n",
        "  mappings.append(mappings_dict)"
      ],
      "execution_count": 37,
      "outputs": []
    },
    {
      "cell_type": "code",
      "metadata": {
        "colab": {
          "base_uri": "https://localhost:8080/",
          "height": 266
        },
        "id": "VJAkbwaFVdiH",
        "outputId": "f62788d4-7aa9-4d00-cc1d-d31ca678d6c1"
      },
      "source": [
        "shrooms.head()"
      ],
      "execution_count": 39,
      "outputs": [
        {
          "output_type": "execute_result",
          "data": {
            "text/html": [
              "<div>\n",
              "<style scoped>\n",
              "    .dataframe tbody tr th:only-of-type {\n",
              "        vertical-align: middle;\n",
              "    }\n",
              "\n",
              "    .dataframe tbody tr th {\n",
              "        vertical-align: top;\n",
              "    }\n",
              "\n",
              "    .dataframe thead th {\n",
              "        text-align: right;\n",
              "    }\n",
              "</style>\n",
              "<table border=\"1\" class=\"dataframe\">\n",
              "  <thead>\n",
              "    <tr style=\"text-align: right;\">\n",
              "      <th></th>\n",
              "      <th>class</th>\n",
              "      <th>cap-shape</th>\n",
              "      <th>cap-surface</th>\n",
              "      <th>cap-color</th>\n",
              "      <th>bruises</th>\n",
              "      <th>odor</th>\n",
              "      <th>gill-attachment</th>\n",
              "      <th>gill-spacing</th>\n",
              "      <th>gill-size</th>\n",
              "      <th>gill-color</th>\n",
              "      <th>stalk-shape</th>\n",
              "      <th>stalk-root</th>\n",
              "      <th>stalk-surface-above-ring</th>\n",
              "      <th>stalk-surface-below-ring</th>\n",
              "      <th>stalk-color-above-ring</th>\n",
              "      <th>stalk-color-below-ring</th>\n",
              "      <th>veil-type</th>\n",
              "      <th>veil-color</th>\n",
              "      <th>ring-number</th>\n",
              "      <th>ring-type</th>\n",
              "      <th>spore-print-color</th>\n",
              "      <th>population</th>\n",
              "      <th>habitat</th>\n",
              "    </tr>\n",
              "  </thead>\n",
              "  <tbody>\n",
              "    <tr>\n",
              "      <th>0</th>\n",
              "      <td>1</td>\n",
              "      <td>5</td>\n",
              "      <td>2</td>\n",
              "      <td>4</td>\n",
              "      <td>1</td>\n",
              "      <td>6</td>\n",
              "      <td>1</td>\n",
              "      <td>0</td>\n",
              "      <td>1</td>\n",
              "      <td>4</td>\n",
              "      <td>0</td>\n",
              "      <td>3</td>\n",
              "      <td>2</td>\n",
              "      <td>2</td>\n",
              "      <td>7</td>\n",
              "      <td>7</td>\n",
              "      <td>0</td>\n",
              "      <td>2</td>\n",
              "      <td>1</td>\n",
              "      <td>4</td>\n",
              "      <td>2</td>\n",
              "      <td>3</td>\n",
              "      <td>5</td>\n",
              "    </tr>\n",
              "    <tr>\n",
              "      <th>1</th>\n",
              "      <td>0</td>\n",
              "      <td>5</td>\n",
              "      <td>2</td>\n",
              "      <td>9</td>\n",
              "      <td>1</td>\n",
              "      <td>0</td>\n",
              "      <td>1</td>\n",
              "      <td>0</td>\n",
              "      <td>0</td>\n",
              "      <td>4</td>\n",
              "      <td>0</td>\n",
              "      <td>2</td>\n",
              "      <td>2</td>\n",
              "      <td>2</td>\n",
              "      <td>7</td>\n",
              "      <td>7</td>\n",
              "      <td>0</td>\n",
              "      <td>2</td>\n",
              "      <td>1</td>\n",
              "      <td>4</td>\n",
              "      <td>3</td>\n",
              "      <td>2</td>\n",
              "      <td>1</td>\n",
              "    </tr>\n",
              "    <tr>\n",
              "      <th>2</th>\n",
              "      <td>0</td>\n",
              "      <td>0</td>\n",
              "      <td>2</td>\n",
              "      <td>8</td>\n",
              "      <td>1</td>\n",
              "      <td>3</td>\n",
              "      <td>1</td>\n",
              "      <td>0</td>\n",
              "      <td>0</td>\n",
              "      <td>5</td>\n",
              "      <td>0</td>\n",
              "      <td>2</td>\n",
              "      <td>2</td>\n",
              "      <td>2</td>\n",
              "      <td>7</td>\n",
              "      <td>7</td>\n",
              "      <td>0</td>\n",
              "      <td>2</td>\n",
              "      <td>1</td>\n",
              "      <td>4</td>\n",
              "      <td>3</td>\n",
              "      <td>2</td>\n",
              "      <td>3</td>\n",
              "    </tr>\n",
              "    <tr>\n",
              "      <th>3</th>\n",
              "      <td>1</td>\n",
              "      <td>5</td>\n",
              "      <td>3</td>\n",
              "      <td>8</td>\n",
              "      <td>1</td>\n",
              "      <td>6</td>\n",
              "      <td>1</td>\n",
              "      <td>0</td>\n",
              "      <td>1</td>\n",
              "      <td>5</td>\n",
              "      <td>0</td>\n",
              "      <td>3</td>\n",
              "      <td>2</td>\n",
              "      <td>2</td>\n",
              "      <td>7</td>\n",
              "      <td>7</td>\n",
              "      <td>0</td>\n",
              "      <td>2</td>\n",
              "      <td>1</td>\n",
              "      <td>4</td>\n",
              "      <td>2</td>\n",
              "      <td>3</td>\n",
              "      <td>5</td>\n",
              "    </tr>\n",
              "    <tr>\n",
              "      <th>4</th>\n",
              "      <td>0</td>\n",
              "      <td>5</td>\n",
              "      <td>2</td>\n",
              "      <td>3</td>\n",
              "      <td>0</td>\n",
              "      <td>5</td>\n",
              "      <td>1</td>\n",
              "      <td>1</td>\n",
              "      <td>0</td>\n",
              "      <td>4</td>\n",
              "      <td>1</td>\n",
              "      <td>3</td>\n",
              "      <td>2</td>\n",
              "      <td>2</td>\n",
              "      <td>7</td>\n",
              "      <td>7</td>\n",
              "      <td>0</td>\n",
              "      <td>2</td>\n",
              "      <td>1</td>\n",
              "      <td>0</td>\n",
              "      <td>3</td>\n",
              "      <td>0</td>\n",
              "      <td>1</td>\n",
              "    </tr>\n",
              "  </tbody>\n",
              "</table>\n",
              "</div>"
            ],
            "text/plain": [
              "   class  cap-shape  cap-surface  ...  spore-print-color  population  habitat\n",
              "0      1          5            2  ...                  2           3        5\n",
              "1      0          5            2  ...                  3           2        1\n",
              "2      0          0            2  ...                  3           2        3\n",
              "3      1          5            3  ...                  2           3        5\n",
              "4      0          5            2  ...                  3           0        1\n",
              "\n",
              "[5 rows x 23 columns]"
            ]
          },
          "metadata": {
            "tags": []
          },
          "execution_count": 39
        }
      ]
    },
    {
      "cell_type": "code",
      "metadata": {
        "colab": {
          "base_uri": "https://localhost:8080/"
        },
        "id": "cANjGaRjVeuY",
        "outputId": "159b2a02-2872-466d-fcb0-841232948cde"
      },
      "source": [
        "#mappings shows the dictionary values\n",
        "mappings"
      ],
      "execution_count": 38,
      "outputs": [
        {
          "output_type": "execute_result",
          "data": {
            "text/plain": [
              "[{0: 'e', 1: 'p'},\n",
              " {0: 'b', 1: 'c', 2: 'f', 3: 'k', 4: 's', 5: 'x'},\n",
              " {0: 'f', 1: 'g', 2: 's', 3: 'y'},\n",
              " {0: 'b',\n",
              "  1: 'c',\n",
              "  2: 'e',\n",
              "  3: 'g',\n",
              "  4: 'n',\n",
              "  5: 'p',\n",
              "  6: 'r',\n",
              "  7: 'u',\n",
              "  8: 'w',\n",
              "  9: 'y'},\n",
              " {0: 'f', 1: 't'},\n",
              " {0: 'a', 1: 'c', 2: 'f', 3: 'l', 4: 'm', 5: 'n', 6: 'p', 7: 's', 8: 'y'},\n",
              " {0: 'a', 1: 'f'},\n",
              " {0: 'c', 1: 'w'},\n",
              " {0: 'b', 1: 'n'},\n",
              " {0: 'b',\n",
              "  1: 'e',\n",
              "  2: 'g',\n",
              "  3: 'h',\n",
              "  4: 'k',\n",
              "  5: 'n',\n",
              "  6: 'o',\n",
              "  7: 'p',\n",
              "  8: 'r',\n",
              "  9: 'u',\n",
              "  10: 'w',\n",
              "  11: 'y'},\n",
              " {0: 'e', 1: 't'},\n",
              " {0: '?', 1: 'b', 2: 'c', 3: 'e', 4: 'r'},\n",
              " {0: 'f', 1: 'k', 2: 's', 3: 'y'},\n",
              " {0: 'f', 1: 'k', 2: 's', 3: 'y'},\n",
              " {0: 'b', 1: 'c', 2: 'e', 3: 'g', 4: 'n', 5: 'o', 6: 'p', 7: 'w', 8: 'y'},\n",
              " {0: 'b', 1: 'c', 2: 'e', 3: 'g', 4: 'n', 5: 'o', 6: 'p', 7: 'w', 8: 'y'},\n",
              " {0: 'p'},\n",
              " {0: 'n', 1: 'o', 2: 'w', 3: 'y'},\n",
              " {0: 'n', 1: 'o', 2: 't'},\n",
              " {0: 'e', 1: 'f', 2: 'l', 3: 'n', 4: 'p'},\n",
              " {0: 'b', 1: 'h', 2: 'k', 3: 'n', 4: 'o', 5: 'r', 6: 'u', 7: 'w', 8: 'y'},\n",
              " {0: 'a', 1: 'c', 2: 'n', 3: 's', 4: 'v', 5: 'y'},\n",
              " {0: 'd', 1: 'g', 2: 'l', 3: 'm', 4: 'p', 5: 'u', 6: 'w'}]"
            ]
          },
          "metadata": {
            "tags": []
          },
          "execution_count": 38
        }
      ]
    },
    {
      "cell_type": "markdown",
      "metadata": {
        "id": "eDx7Oi3SadCH"
      },
      "source": [
        "Splitting labels & target\n"
      ]
    },
    {
      "cell_type": "code",
      "metadata": {
        "id": "kKW_gKMlVhhn"
      },
      "source": [
        "X = shrooms.drop('class', axis = 1)\n",
        "Y = shrooms['class']"
      ],
      "execution_count": 41,
      "outputs": []
    },
    {
      "cell_type": "code",
      "metadata": {
        "colab": {
          "base_uri": "https://localhost:8080/"
        },
        "id": "ex_8OfHualn_",
        "outputId": "cc7bf0e9-6db6-42ab-f592-8c4d6fec8f05"
      },
      "source": [
        "print(X\n",
        ")"
      ],
      "execution_count": 42,
      "outputs": [
        {
          "output_type": "stream",
          "text": [
            "      cap-shape  cap-surface  cap-color  ...  spore-print-color  population  habitat\n",
            "0             5            2          4  ...                  2           3        5\n",
            "1             5            2          9  ...                  3           2        1\n",
            "2             0            2          8  ...                  3           2        3\n",
            "3             5            3          8  ...                  2           3        5\n",
            "4             5            2          3  ...                  3           0        1\n",
            "...         ...          ...        ...  ...                ...         ...      ...\n",
            "8119          3            2          4  ...                  0           1        2\n",
            "8120          5            2          4  ...                  0           4        2\n",
            "8121          2            2          4  ...                  0           1        2\n",
            "8122          3            3          4  ...                  7           4        2\n",
            "8123          5            2          4  ...                  4           1        2\n",
            "\n",
            "[8124 rows x 22 columns]\n"
          ],
          "name": "stdout"
        }
      ]
    },
    {
      "cell_type": "code",
      "metadata": {
        "colab": {
          "base_uri": "https://localhost:8080/"
        },
        "id": "7adYCf8Nap3P",
        "outputId": "b5b07e40-85d4-4259-f767-242e58044efa"
      },
      "source": [
        "print(Y)"
      ],
      "execution_count": 43,
      "outputs": [
        {
          "output_type": "stream",
          "text": [
            "0       1\n",
            "1       0\n",
            "2       0\n",
            "3       1\n",
            "4       0\n",
            "       ..\n",
            "8119    0\n",
            "8120    0\n",
            "8121    0\n",
            "8122    1\n",
            "8123    0\n",
            "Name: class, Length: 8124, dtype: int64\n"
          ],
          "name": "stdout"
        }
      ]
    },
    {
      "cell_type": "markdown",
      "metadata": {
        "id": "rYOaGYCUbQmI"
      },
      "source": [
        "Scaling"
      ]
    },
    {
      "cell_type": "code",
      "metadata": {
        "id": "7HKY4QPkasse"
      },
      "source": [
        "scaler = StandardScaler()\n",
        "\n",
        "X = pd.DataFrame(scaler.fit_transform(X))"
      ],
      "execution_count": 44,
      "outputs": []
    },
    {
      "cell_type": "code",
      "metadata": {
        "colab": {
          "base_uri": "https://localhost:8080/",
          "height": 422
        },
        "id": "plvs1av8bayh",
        "outputId": "6509c4c0-5a5f-4230-e906-c6e3392a5fb1"
      },
      "source": [
        "X"
      ],
      "execution_count": 45,
      "outputs": [
        {
          "output_type": "execute_result",
          "data": {
            "text/html": [
              "<div>\n",
              "<style scoped>\n",
              "    .dataframe tbody tr th:only-of-type {\n",
              "        vertical-align: middle;\n",
              "    }\n",
              "\n",
              "    .dataframe tbody tr th {\n",
              "        vertical-align: top;\n",
              "    }\n",
              "\n",
              "    .dataframe thead th {\n",
              "        text-align: right;\n",
              "    }\n",
              "</style>\n",
              "<table border=\"1\" class=\"dataframe\">\n",
              "  <thead>\n",
              "    <tr style=\"text-align: right;\">\n",
              "      <th></th>\n",
              "      <th>0</th>\n",
              "      <th>1</th>\n",
              "      <th>2</th>\n",
              "      <th>3</th>\n",
              "      <th>4</th>\n",
              "      <th>5</th>\n",
              "      <th>6</th>\n",
              "      <th>7</th>\n",
              "      <th>8</th>\n",
              "      <th>9</th>\n",
              "      <th>10</th>\n",
              "      <th>11</th>\n",
              "      <th>12</th>\n",
              "      <th>13</th>\n",
              "      <th>14</th>\n",
              "      <th>15</th>\n",
              "      <th>16</th>\n",
              "      <th>17</th>\n",
              "      <th>18</th>\n",
              "      <th>19</th>\n",
              "      <th>20</th>\n",
              "      <th>21</th>\n",
              "    </tr>\n",
              "  </thead>\n",
              "  <tbody>\n",
              "    <tr>\n",
              "      <th>0</th>\n",
              "      <td>1.029712</td>\n",
              "      <td>0.140128</td>\n",
              "      <td>-0.198250</td>\n",
              "      <td>1.185917</td>\n",
              "      <td>0.881938</td>\n",
              "      <td>0.162896</td>\n",
              "      <td>-0.438864</td>\n",
              "      <td>1.494683</td>\n",
              "      <td>-0.228998</td>\n",
              "      <td>-1.144806</td>\n",
              "      <td>1.781460</td>\n",
              "      <td>0.683778</td>\n",
              "      <td>0.586385</td>\n",
              "      <td>0.622441</td>\n",
              "      <td>0.631991</td>\n",
              "      <td>0.0</td>\n",
              "      <td>0.142037</td>\n",
              "      <td>-0.256132</td>\n",
              "      <td>0.948081</td>\n",
              "      <td>-0.670195</td>\n",
              "      <td>-0.514389</td>\n",
              "      <td>2.030028</td>\n",
              "    </tr>\n",
              "    <tr>\n",
              "      <th>1</th>\n",
              "      <td>1.029712</td>\n",
              "      <td>0.140128</td>\n",
              "      <td>1.765874</td>\n",
              "      <td>1.185917</td>\n",
              "      <td>-1.970316</td>\n",
              "      <td>0.162896</td>\n",
              "      <td>-0.438864</td>\n",
              "      <td>-0.669038</td>\n",
              "      <td>-0.228998</td>\n",
              "      <td>-1.144806</td>\n",
              "      <td>0.838989</td>\n",
              "      <td>0.683778</td>\n",
              "      <td>0.586385</td>\n",
              "      <td>0.622441</td>\n",
              "      <td>0.631991</td>\n",
              "      <td>0.0</td>\n",
              "      <td>0.142037</td>\n",
              "      <td>-0.256132</td>\n",
              "      <td>0.948081</td>\n",
              "      <td>-0.250471</td>\n",
              "      <td>-1.313108</td>\n",
              "      <td>-0.295730</td>\n",
              "    </tr>\n",
              "    <tr>\n",
              "      <th>2</th>\n",
              "      <td>-2.087047</td>\n",
              "      <td>0.140128</td>\n",
              "      <td>1.373049</td>\n",
              "      <td>1.185917</td>\n",
              "      <td>-0.544189</td>\n",
              "      <td>0.162896</td>\n",
              "      <td>-0.438864</td>\n",
              "      <td>-0.669038</td>\n",
              "      <td>0.053477</td>\n",
              "      <td>-1.144806</td>\n",
              "      <td>0.838989</td>\n",
              "      <td>0.683778</td>\n",
              "      <td>0.586385</td>\n",
              "      <td>0.622441</td>\n",
              "      <td>0.631991</td>\n",
              "      <td>0.0</td>\n",
              "      <td>0.142037</td>\n",
              "      <td>-0.256132</td>\n",
              "      <td>0.948081</td>\n",
              "      <td>-0.250471</td>\n",
              "      <td>-1.313108</td>\n",
              "      <td>0.867149</td>\n",
              "    </tr>\n",
              "    <tr>\n",
              "      <th>3</th>\n",
              "      <td>1.029712</td>\n",
              "      <td>0.953270</td>\n",
              "      <td>1.373049</td>\n",
              "      <td>1.185917</td>\n",
              "      <td>0.881938</td>\n",
              "      <td>0.162896</td>\n",
              "      <td>-0.438864</td>\n",
              "      <td>1.494683</td>\n",
              "      <td>0.053477</td>\n",
              "      <td>-1.144806</td>\n",
              "      <td>1.781460</td>\n",
              "      <td>0.683778</td>\n",
              "      <td>0.586385</td>\n",
              "      <td>0.622441</td>\n",
              "      <td>0.631991</td>\n",
              "      <td>0.0</td>\n",
              "      <td>0.142037</td>\n",
              "      <td>-0.256132</td>\n",
              "      <td>0.948081</td>\n",
              "      <td>-0.670195</td>\n",
              "      <td>-0.514389</td>\n",
              "      <td>2.030028</td>\n",
              "    </tr>\n",
              "    <tr>\n",
              "      <th>4</th>\n",
              "      <td>1.029712</td>\n",
              "      <td>0.140128</td>\n",
              "      <td>-0.591075</td>\n",
              "      <td>-0.843230</td>\n",
              "      <td>0.406562</td>\n",
              "      <td>0.162896</td>\n",
              "      <td>2.278612</td>\n",
              "      <td>-0.669038</td>\n",
              "      <td>-0.228998</td>\n",
              "      <td>0.873511</td>\n",
              "      <td>1.781460</td>\n",
              "      <td>0.683778</td>\n",
              "      <td>0.586385</td>\n",
              "      <td>0.622441</td>\n",
              "      <td>0.631991</td>\n",
              "      <td>0.0</td>\n",
              "      <td>0.142037</td>\n",
              "      <td>-0.256132</td>\n",
              "      <td>-1.272216</td>\n",
              "      <td>-0.250471</td>\n",
              "      <td>-2.910546</td>\n",
              "      <td>-0.295730</td>\n",
              "    </tr>\n",
              "    <tr>\n",
              "      <th>...</th>\n",
              "      <td>...</td>\n",
              "      <td>...</td>\n",
              "      <td>...</td>\n",
              "      <td>...</td>\n",
              "      <td>...</td>\n",
              "      <td>...</td>\n",
              "      <td>...</td>\n",
              "      <td>...</td>\n",
              "      <td>...</td>\n",
              "      <td>...</td>\n",
              "      <td>...</td>\n",
              "      <td>...</td>\n",
              "      <td>...</td>\n",
              "      <td>...</td>\n",
              "      <td>...</td>\n",
              "      <td>...</td>\n",
              "      <td>...</td>\n",
              "      <td>...</td>\n",
              "      <td>...</td>\n",
              "      <td>...</td>\n",
              "      <td>...</td>\n",
              "      <td>...</td>\n",
              "    </tr>\n",
              "    <tr>\n",
              "      <th>8119</th>\n",
              "      <td>-0.216992</td>\n",
              "      <td>0.140128</td>\n",
              "      <td>-0.198250</td>\n",
              "      <td>-0.843230</td>\n",
              "      <td>0.406562</td>\n",
              "      <td>-6.138869</td>\n",
              "      <td>-0.438864</td>\n",
              "      <td>-0.669038</td>\n",
              "      <td>1.748325</td>\n",
              "      <td>-1.144806</td>\n",
              "      <td>-1.045952</td>\n",
              "      <td>0.683778</td>\n",
              "      <td>0.586385</td>\n",
              "      <td>-0.429288</td>\n",
              "      <td>-0.416681</td>\n",
              "      <td>0.0</td>\n",
              "      <td>-3.979055</td>\n",
              "      <td>-0.256132</td>\n",
              "      <td>0.948081</td>\n",
              "      <td>-1.509643</td>\n",
              "      <td>-2.111827</td>\n",
              "      <td>0.285710</td>\n",
              "    </tr>\n",
              "    <tr>\n",
              "      <th>8120</th>\n",
              "      <td>1.029712</td>\n",
              "      <td>0.140128</td>\n",
              "      <td>-0.198250</td>\n",
              "      <td>-0.843230</td>\n",
              "      <td>0.406562</td>\n",
              "      <td>-6.138869</td>\n",
              "      <td>-0.438864</td>\n",
              "      <td>-0.669038</td>\n",
              "      <td>1.748325</td>\n",
              "      <td>-1.144806</td>\n",
              "      <td>-1.045952</td>\n",
              "      <td>0.683778</td>\n",
              "      <td>0.586385</td>\n",
              "      <td>-0.429288</td>\n",
              "      <td>-0.416681</td>\n",
              "      <td>0.0</td>\n",
              "      <td>-8.100146</td>\n",
              "      <td>-0.256132</td>\n",
              "      <td>0.948081</td>\n",
              "      <td>-1.509643</td>\n",
              "      <td>0.284330</td>\n",
              "      <td>0.285710</td>\n",
              "    </tr>\n",
              "    <tr>\n",
              "      <th>8121</th>\n",
              "      <td>-0.840343</td>\n",
              "      <td>0.140128</td>\n",
              "      <td>-0.198250</td>\n",
              "      <td>-0.843230</td>\n",
              "      <td>0.406562</td>\n",
              "      <td>-6.138869</td>\n",
              "      <td>-0.438864</td>\n",
              "      <td>-0.669038</td>\n",
              "      <td>0.053477</td>\n",
              "      <td>-1.144806</td>\n",
              "      <td>-1.045952</td>\n",
              "      <td>0.683778</td>\n",
              "      <td>0.586385</td>\n",
              "      <td>-0.429288</td>\n",
              "      <td>-0.416681</td>\n",
              "      <td>0.0</td>\n",
              "      <td>-3.979055</td>\n",
              "      <td>-0.256132</td>\n",
              "      <td>0.948081</td>\n",
              "      <td>-1.509643</td>\n",
              "      <td>-2.111827</td>\n",
              "      <td>0.285710</td>\n",
              "    </tr>\n",
              "    <tr>\n",
              "      <th>8122</th>\n",
              "      <td>-0.216992</td>\n",
              "      <td>0.953270</td>\n",
              "      <td>-0.198250</td>\n",
              "      <td>-0.843230</td>\n",
              "      <td>1.832689</td>\n",
              "      <td>0.162896</td>\n",
              "      <td>-0.438864</td>\n",
              "      <td>1.494683</td>\n",
              "      <td>-1.358896</td>\n",
              "      <td>0.873511</td>\n",
              "      <td>-1.045952</td>\n",
              "      <td>0.683778</td>\n",
              "      <td>-0.893053</td>\n",
              "      <td>0.622441</td>\n",
              "      <td>0.631991</td>\n",
              "      <td>0.0</td>\n",
              "      <td>0.142037</td>\n",
              "      <td>-0.256132</td>\n",
              "      <td>-1.272216</td>\n",
              "      <td>1.428426</td>\n",
              "      <td>0.284330</td>\n",
              "      <td>0.285710</td>\n",
              "    </tr>\n",
              "    <tr>\n",
              "      <th>8123</th>\n",
              "      <td>1.029712</td>\n",
              "      <td>0.140128</td>\n",
              "      <td>-0.198250</td>\n",
              "      <td>-0.843230</td>\n",
              "      <td>0.406562</td>\n",
              "      <td>-6.138869</td>\n",
              "      <td>-0.438864</td>\n",
              "      <td>-0.669038</td>\n",
              "      <td>1.748325</td>\n",
              "      <td>-1.144806</td>\n",
              "      <td>-1.045952</td>\n",
              "      <td>0.683778</td>\n",
              "      <td>0.586385</td>\n",
              "      <td>-0.429288</td>\n",
              "      <td>-0.416681</td>\n",
              "      <td>0.0</td>\n",
              "      <td>-3.979055</td>\n",
              "      <td>-0.256132</td>\n",
              "      <td>0.948081</td>\n",
              "      <td>0.169254</td>\n",
              "      <td>-2.111827</td>\n",
              "      <td>0.285710</td>\n",
              "    </tr>\n",
              "  </tbody>\n",
              "</table>\n",
              "<p>8124 rows × 22 columns</p>\n",
              "</div>"
            ],
            "text/plain": [
              "            0         1         2   ...        19        20        21\n",
              "0     1.029712  0.140128 -0.198250  ... -0.670195 -0.514389  2.030028\n",
              "1     1.029712  0.140128  1.765874  ... -0.250471 -1.313108 -0.295730\n",
              "2    -2.087047  0.140128  1.373049  ... -0.250471 -1.313108  0.867149\n",
              "3     1.029712  0.953270  1.373049  ... -0.670195 -0.514389  2.030028\n",
              "4     1.029712  0.140128 -0.591075  ... -0.250471 -2.910546 -0.295730\n",
              "...        ...       ...       ...  ...       ...       ...       ...\n",
              "8119 -0.216992  0.140128 -0.198250  ... -1.509643 -2.111827  0.285710\n",
              "8120  1.029712  0.140128 -0.198250  ... -1.509643  0.284330  0.285710\n",
              "8121 -0.840343  0.140128 -0.198250  ... -1.509643 -2.111827  0.285710\n",
              "8122 -0.216992  0.953270 -0.198250  ...  1.428426  0.284330  0.285710\n",
              "8123  1.029712  0.140128 -0.198250  ...  0.169254 -2.111827  0.285710\n",
              "\n",
              "[8124 rows x 22 columns]"
            ]
          },
          "metadata": {
            "tags": []
          },
          "execution_count": 45
        }
      ]
    },
    {
      "cell_type": "code",
      "metadata": {
        "id": "GoDThZqSbbqf"
      },
      "source": [
        "X_train, X_test, Y_train, Y_test = train_test_split(X, Y, test_size = 0.2)"
      ],
      "execution_count": 46,
      "outputs": []
    },
    {
      "cell_type": "code",
      "metadata": {
        "colab": {
          "base_uri": "https://localhost:8080/"
        },
        "id": "-_UrZRaScBL-",
        "outputId": "e4251bfe-e9f6-456d-f676-405a473429cb"
      },
      "source": [
        "print(X.shape, X_train.shape, X_test.shape)"
      ],
      "execution_count": 47,
      "outputs": [
        {
          "output_type": "stream",
          "text": [
            "(8124, 22) (6499, 22) (1625, 22)\n"
          ],
          "name": "stdout"
        }
      ]
    },
    {
      "cell_type": "markdown",
      "metadata": {
        "id": "V1I5zCQSdDSG"
      },
      "source": [
        "Checkinh number of 0s & 1s in class"
      ]
    },
    {
      "cell_type": "code",
      "metadata": {
        "colab": {
          "base_uri": "https://localhost:8080/"
        },
        "id": "B8s1DU7hcGDm",
        "outputId": "afb7b25e-ad73-4acc-f8a7-2c4e279ae92a"
      },
      "source": [
        "np.sum(Y) / len(Y)"
      ],
      "execution_count": 49,
      "outputs": [
        {
          "output_type": "execute_result",
          "data": {
            "text/plain": [
              "0.48202855736090594"
            ]
          },
          "metadata": {
            "tags": []
          },
          "execution_count": 49
        }
      ]
    },
    {
      "cell_type": "markdown",
      "metadata": {
        "id": "xTgoDhyFdM4l"
      },
      "source": [
        "Model"
      ]
    },
    {
      "cell_type": "code",
      "metadata": {
        "id": "iOs1-7KIdJZO"
      },
      "source": [
        "log_model = LogisticRegression()\n",
        "svm_model = SVC(C = 1.0, kernel = 'rbf')\n",
        "nn_model = MLPClassifier(hidden_layer_sizes =(128,128))"
      ],
      "execution_count": 52,
      "outputs": []
    },
    {
      "cell_type": "code",
      "metadata": {
        "colab": {
          "base_uri": "https://localhost:8080/"
        },
        "id": "dtH1w0P9d7BP",
        "outputId": "7948aa21-c9f0-4855-ea48-6d67584b64b5"
      },
      "source": [
        "log_model.fit(X_train, Y_train)\n",
        "svm_model.fit(X_train, Y_train)\n",
        "nn_model.fit(X_train, Y_train)"
      ],
      "execution_count": 53,
      "outputs": [
        {
          "output_type": "execute_result",
          "data": {
            "text/plain": [
              "MLPClassifier(activation='relu', alpha=0.0001, batch_size='auto', beta_1=0.9,\n",
              "              beta_2=0.999, early_stopping=False, epsilon=1e-08,\n",
              "              hidden_layer_sizes=(128, 128), learning_rate='constant',\n",
              "              learning_rate_init=0.001, max_fun=15000, max_iter=200,\n",
              "              momentum=0.9, n_iter_no_change=10, nesterovs_momentum=True,\n",
              "              power_t=0.5, random_state=None, shuffle=True, solver='adam',\n",
              "              tol=0.0001, validation_fraction=0.1, verbose=False,\n",
              "              warm_start=False)"
            ]
          },
          "metadata": {
            "tags": []
          },
          "execution_count": 53
        }
      ]
    },
    {
      "cell_type": "code",
      "metadata": {
        "colab": {
          "base_uri": "https://localhost:8080/"
        },
        "id": "HgoW3Eb-eI2m",
        "outputId": "a509d86f-e0ab-406a-8485-38467884ec54"
      },
      "source": [
        "print(f'Logistic Regression: {log_model.score(X_test,Y_test)}')\n",
        "print(f'                SVM: {svm_model.score(X_test, Y_test)}')\n",
        "print(f'     Neural Network: {nn_model.score(X_test,Y_test)}')"
      ],
      "execution_count": 60,
      "outputs": [
        {
          "output_type": "stream",
          "text": [
            "Logistic Regression: 0.9575384615384616\n",
            "                SVM: 1.0\n",
            "     Neural Network: 1.0\n"
          ],
          "name": "stdout"
        }
      ]
    },
    {
      "cell_type": "markdown",
      "metadata": {
        "id": "5hvtMRnQfpPP"
      },
      "source": [
        "Visualization"
      ]
    },
    {
      "cell_type": "code",
      "metadata": {
        "id": "YitCob3pecA-"
      },
      "source": [
        "correlation = shrooms.corr()"
      ],
      "execution_count": 61,
      "outputs": []
    },
    {
      "cell_type": "code",
      "metadata": {
        "colab": {
          "base_uri": "https://localhost:8080/",
          "height": 414
        },
        "id": "VfvkFJ-3fy9P",
        "outputId": "91ebb119-207c-42f6-f2bb-a8cf98160b33"
      },
      "source": [
        "sns.set()\n",
        "plt.plot(figsize=(10,10))\n",
        "sns.heatmap(correlation, cbar = True, square = True, annot = False, fmt = '.1f', cmap = 'Blues')"
      ],
      "execution_count": 65,
      "outputs": [
        {
          "output_type": "execute_result",
          "data": {
            "text/plain": [
              "<matplotlib.axes._subplots.AxesSubplot at 0x7f909dfbfb10>"
            ]
          },
          "metadata": {
            "tags": []
          },
          "execution_count": 65
        },
        {
          "output_type": "display_data",
          "data": {
            "image/png": "[encoded data removed]",
            "text/plain": [
              "<Figure size 432x288 with 2 Axes>"
            ]
          },
          "metadata": {
            "tags": []
          }
        }
      ]
    },
    {
      "cell_type": "markdown",
      "metadata": {
        "id": "BmEWx-BuhJRe"
      },
      "source": [
        "Making a predictive System"
      ]
    },
    {
      "cell_type": "code",
      "metadata": {
        "colab": {
          "base_uri": "https://localhost:8080/"
        },
        "id": "FRgSBfSsf-0e",
        "outputId": "931fc249-59fb-4936-be0f-0762ed0199a1"
      },
      "source": [
        "input_data = (5,\t2,\t4,\t1,\t6,\t1,\t0,\t1,\t4,\t0,\t3,\t2,\t2,\t7,\t7,\t0,\t2,\t1,\t4,\t2,\t3,\t5)    #using 1st row value in dataset\n",
        "\n",
        "input_data_numpy = np.asarray(input_data)\n",
        "\n",
        "input_data_reshape = input_data_numpy.reshape(1,-1)\n",
        "prediction = nn_model.predict(input_data_reshape)\n",
        "if prediction == 1:\n",
        "  print('Mushroom is poisonous')\n",
        "else:\n",
        "  print('Mushroom is edible')"
      ],
      "execution_count": 68,
      "outputs": [
        {
          "output_type": "stream",
          "text": [
            "Mushroom is poisonous\n"
          ],
          "name": "stdout"
        }
      ]
    },
    {
      "cell_type": "code",
      "metadata": {
        "colab": {
          "base_uri": "https://localhost:8080/"
        },
        "id": "cpQjzqr4hFD5",
        "outputId": "5174b9ac-7d26-4b97-a6f7-d9653be7a09b"
      },
      "source": [
        "input_data = (5,\t2,\t3,\t0,\t5,\t1,\t1,\t0,\t4,\t1,\t3,\t2,\t2,\t7,\t7,\t0,\t2,\t1,\t0,\t3,\t0,\t1)      #using 5th row value\n",
        "\n",
        "input_data_numpy = np.asarray(input_data)\n",
        "\n",
        "input_data_reshape = input_data_numpy.reshape(1,-1)\n",
        "prediction = nn_model.predict(input_data_reshape)\n",
        "if prediction == 1:\n",
        "  print('Mushroom is poisonous')\n",
        "else:\n",
        "  print('Mushroom is edible')"
      ],
      "execution_count": 71,
      "outputs": [
        {
          "output_type": "stream",
          "text": [
            "Mushroom is edible\n"
          ],
          "name": "stdout"
        }
      ]
    },
    {
      "cell_type": "code",
      "metadata": {
        "id": "zBrPt6EShgVe"
      },
      "source": [
        ""
      ],
      "execution_count": null,
      "outputs": []
    }
  ]
}